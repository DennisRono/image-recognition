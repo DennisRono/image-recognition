{
 "cells": [
  {
   "cell_type": "code",
   "execution_count": null,
   "id": "7e97962d",
   "metadata": {},
   "outputs": [],
   "source": [
    "import re\n",
    "import string\n",
    "import pandas as pd\n",
    "import numpy as np\n",
    "from collections import Counter, defaultdict\n",
    "import matplotlib.pyplot as plt\n",
    "import seaborn as sns\n",
    "from transformers import (\n",
    "    AutoTokenizer, \n",
    "    BertTokenizer, \n",
    "    GPT2Tokenizer,\n",
    "    T5Tokenizer\n",
    ")\n",
    "import nltk\n",
    "from nltk.corpus import stopwords\n",
    "from nltk.stem import PorterStemmer, WordNetLemmatizer\n",
    "from nltk.tokenize import word_tokenize, sent_tokenize"
   ]
  },
  {
   "cell_type": "code",
   "execution_count": null,
   "id": "db85c297",
   "metadata": {},
   "outputs": [],
   "source": [
    "try:\n",
    "    nltk.download('punkt', quiet=True)\n",
    "    nltk.download('stopwords', quiet=True)\n",
    "    nltk.download('wordnet', quiet=True)\n",
    "    nltk.download('averaged_perceptron_tagger', quiet=True)\n",
    "except:\n",
    "    pass"
   ]
  },
  {
   "cell_type": "code",
   "execution_count": null,
   "id": "2b364635",
   "metadata": {},
   "outputs": [],
   "source": [
    "class TextPreprocessor:\n",
    "    def __init__(self):\n",
    "        self.setup_tokenizers()\n",
    "        self.setup_nltk_tools()\n",
    "        \n",
    "    def setup_tokenizers(self):\n",
    "        \"\"\"Initialize various tokenizers\"\"\"\n",
    "        try:\n",
    "            self.bert_tokenizer = AutoTokenizer.from_pretrained('bert-base-uncased')\n",
    "            self.gpt2_tokenizer = AutoTokenizer.from_pretrained('gpt2')\n",
    "            self.t5_tokenizer = AutoTokenizer.from_pretrained('t5-small')\n",
    "            print(\"✓ Tokenizers loaded successfully\")\n",
    "        except Exception as e:\n",
    "            print(f\"Warning: Could not load some tokenizers: {e}\")\n",
    "            self.bert_tokenizer = None\n",
    "            self.gpt2_tokenizer = None\n",
    "            self.t5_tokenizer = None\n",
    "    \n",
    "    def setup_nltk_tools(self):\n",
    "        \"\"\"Initialize NLTK tools\"\"\"\n",
    "        try:\n",
    "            self.stop_words = set(stopwords.words('english'))\n",
    "            self.stemmer = PorterStemmer()\n",
    "            self.lemmatizer = WordNetLemmatizer()\n",
    "        except:\n",
    "            self.stop_words = set()\n",
    "            self.stemmer = None\n",
    "            self.lemmatizer = None"
   ]
  }
 ],
 "metadata": {
  "language_info": {
   "name": "python"
  }
 },
 "nbformat": 4,
 "nbformat_minor": 5
}
